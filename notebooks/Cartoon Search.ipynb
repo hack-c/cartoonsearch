{
 "cells": [
  {
   "cell_type": "code",
   "execution_count": 6,
   "metadata": {
    "collapsed": false
   },
   "outputs": [],
   "source": [
    "import os\n",
    "import re\n",
    "import sys\n",
    "import collections\n",
    "import pandas as pd\n",
    "from tqdm import tqdm\n",
    "from annoy import AnnoyIndex\n",
    "from gensim.models import LdaModel\n",
    "from gensim.matutils import sparse2full\n",
    "from gensim.matutils import Sparse2Corpus\n",
    "from IPython.display import display, HTML \n"
   ]
  },
  {
   "cell_type": "code",
   "execution_count": 2,
   "metadata": {
    "collapsed": true
   },
   "outputs": [],
   "source": [
    "index = AnnoyIndex(500)\n",
    "index.load('../data/index/cartoondump.annoy')"
   ]
  },
  {
   "cell_type": "code",
   "execution_count": 35,
   "metadata": {
    "collapsed": true
   },
   "outputs": [],
   "source": [
    "df = pd.read_csv('../data/processed/cartoondump_spellchecked.csv', dtype=str)"
   ]
  },
  {
   "cell_type": "code",
   "execution_count": 36,
   "metadata": {
    "collapsed": true
   },
   "outputs": [],
   "source": [
    "df.index = df['id']"
   ]
  },
  {
   "cell_type": "code",
   "execution_count": 30,
   "metadata": {
    "collapsed": true
   },
   "outputs": [],
   "source": [
    "def print_cartoon_record(cid, descriptor=\"\", version=\"raw\"):\n",
    "    if isinstance(cid, int):\n",
    "        target = df.iloc[cid]\n",
    "    elif isinstance(cid, str):\n",
    "        target = df.loc[cid]\n",
    "        \n",
    "    if version == \"raw\":\n",
    "        print(\"[ {} cartoon raw text ]\".format(descriptor))\n",
    "        print(target.rawtext, end='\\n\\n')\n",
    "    else:\n",
    "        print(\"[ {} cartoon scrubbed text ]\".format(descriptor))\n",
    "        print(target.document, end='\\n\\n')\n",
    "    "
   ]
  },
  {
   "cell_type": "code",
   "execution_count": 19,
   "metadata": {
    "collapsed": true
   },
   "outputs": [],
   "source": [
    "def search_by_id(cid, n=10, version=\"clean\"):\n",
    "    \"\"\"\n",
    "    Print the cartoon's description and caption in the raw and scrubbed versions,\n",
    "    then print the information for the n most relevant results.\n",
    "    \"\"\"\n",
    "    print_cartoon_record(cid, descriptor=\"target\", version=version)\n",
    "\n",
    "    print(\"==[ fetching results... ]==\")\n",
    "    results = index.get_nns_by_item(cid, n=n)\n",
    "    \n",
    "    for i,resultid in enumerate(results):\n",
    "        print_cartoon_record(resultid, descriptor=\"result #{}\".format(i+1), version=version)\n",
    "\n",
    "    "
   ]
  },
  {
   "cell_type": "code",
   "execution_count": 24,
   "metadata": {
    "collapsed": false
   },
   "outputs": [
    {
     "name": "stdout",
     "output_type": "stream",
     "text": [
      "[ target cartoon raw text ]\n",
      " amy parents are the same way. lots of ostentatious child-rearing,very little direct nurturing.a (two children talking )\u000b",
      "children,parents,trends,nannies, modern life, psychobabble\u000b",
      "\"my parents are the same way. lots of ostentatious child-rearing, very little direct nurturing.\"\u000b",
      " one child in a striller who is being pushed by a nanny says to another who is also being pushed by a nanny.  25370 amy parents are the same way. lots of ostentatious child-rearing, very little direct nurturing.a 8/16/1993\n",
      "\n",
      "==[ fetching results... ]==\n",
      "[ result #1 cartoon raw text ]\n",
      " amy parents are the same way. lots of ostentatious child-rearing,very little direct nurturing.a (two children talking )\u000b",
      "children,parents,trends,nannies, modern life, psychobabble\u000b",
      "\"my parents are the same way. lots of ostentatious child-rearing, very little direct nurturing.\"\u000b",
      " one child in a striller who is being pushed by a nanny says to another who is also being pushed by a nanny.  25370 amy parents are the same way. lots of ostentatious child-rearing, very little direct nurturing.a 8/16/1993\n",
      "\n",
      "[ result #2 cartoon raw text ]\n",
      " ated was severely edited as a child.a, ted, severely, child ated was severely edited as a child.a 10/17/2011\n",
      "\n",
      "[ result #3 cartoon raw text ]\n",
      " \"it isn't that i don't want to take you, but don't you see? we're here and disneyland is way,way over here.\"\u000b",
      "(father to his children as he shows than a map of the u.s.)  parents parenting family children kids families family childhood child rearing  travel trip journey vacation holiday  vacation vacations trip journey break  distance far away drs 68805 rde richard decker ait isnat that i donat want to take you, but donat you see? weare here and disneyland is way, way over here.a 9/17/1955\n",
      "\n",
      "[ result #4 cartoon raw text ]\n",
      " children, parenting, modernl life\u000b",
      "aboth of you are rotten and hatefulafrom a kidas perspective.a\u000b",
      "\"both of you are rotten and hateful--from a kid's perspective.\"\u000b",
      " child to parents about his messy room.  artkey 29899 aboth of you are rotten and hatefulafrom a kidas perspective.a 1/15/1990\n",
      "\n",
      "[ result #5 cartoon raw text ]\n",
      " 79869 dre donald reilly amy father was one of the anest snakes iave ever known.a (one snake to another.)  animal animals another children families family fatherhood grass kids one parenting parents paternity remembrance snake talking amy father was one of the anest snakes iave ever known.a 3/6/1971\n",
      "\n",
      "[ result #6 cartoon raw text ]\n",
      " 111712 gpr george price  (children's nurse skipping rope with child on her shoulders.)  boy boys child childhood children children's families family fun game games girl girls housekeeper housekeeping jump jumping kid kids little maid nanny nurse parenting parents play playing rearing rope shoulders skip skipping youth  2/7/1942\n",
      "\n",
      "[ result #7 cartoon raw text ]\n",
      " 104700 wst william steig ayou might spend a little time at home!a (tiny boy to parents going out for formal evening.)  attention boy child childhood children dining evening families family formal going kids leaving never out parent parenting parents quality rearing tiny ayou might spend a little time at home!a 4/30/1932\n",
      "\n",
      "[ result #8 cartoon raw text ]\n",
      " 86042 llo lee lorenz apop, am i experiencing a normal childhood?a (child to his father, who is reading the paper.) boy boys child childhood children curiosity curious families family father kid kids little paper parent parenting parents questions reading rearing youth apop, am i experiencing a normal childhood?a 3/12/1984\n",
      "\n",
      "[ result #9 cartoon raw text ]\n",
      " saul steinberg 114222 steinbergattny     (wife and child watching while father sprays a bug.)  bug child childhood children dead death dying families family father fumigate fumigation girl girls insect insects kid kids kill killing little parent parenting parents raid rearing repellent spray sprays watching while wife youth  8/18/1945\n",
      "\n",
      "[ result #10 cartoon raw text ]\n",
      " painters - general;  businessmen; family, babies, parents, asusanna and the elders,a amadonno and childa\u000b",
      "(parody of amadonna with childa) davinci,\u000b",
      "new master painting\u000b",
      "(parodies of various master paintings.) artkey 44093 amadonno and childa 7/24/2000\n",
      "\n"
     ]
    }
   ],
   "source": [
    "search_by_id(60005, version=\"raw\")"
   ]
  },
  {
   "cell_type": "code",
   "execution_count": 41,
   "metadata": {
    "collapsed": false
   },
   "outputs": [
    {
     "name": "stdout",
     "output_type": "stream",
     "text": [
      "[  cartoon raw text ]\n",
      " dining, food, restaurants, eating, leisure, \"i believe i'll skip the appetizer. i ate the flowers.\" man ordering at a restaurant to waiter. , 75th anniversary artkey 42603 ai believe iall skip the appetizer. i ate the flowers.a 4/3/1978\n",
      "\n"
     ]
    }
   ],
   "source": [
    "print_cartoon_record(\"42603\")"
   ]
  },
  {
   "cell_type": "code",
   "execution_count": null,
   "metadata": {
    "collapsed": true
   },
   "outputs": [],
   "source": []
  }
 ],
 "metadata": {
  "kernelspec": {
   "display_name": "Python 3",
   "language": "python",
   "name": "python3"
  },
  "language_info": {
   "codemirror_mode": {
    "name": "ipython",
    "version": 3
   },
   "file_extension": ".py",
   "mimetype": "text/x-python",
   "name": "python",
   "nbconvert_exporter": "python",
   "pygments_lexer": "ipython3",
   "version": "3.5.1"
  }
 },
 "nbformat": 4,
 "nbformat_minor": 0
}
